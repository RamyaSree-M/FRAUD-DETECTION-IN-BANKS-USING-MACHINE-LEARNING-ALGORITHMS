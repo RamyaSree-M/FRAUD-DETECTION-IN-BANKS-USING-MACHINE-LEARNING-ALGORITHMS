{
 "cells": [
  {
   "cell_type": "code",
   "execution_count": 1,
   "id": "6e764922",
   "metadata": {},
   "outputs": [],
   "source": [
    "import numpy as np\n",
    "import pandas as pd"
   ]
  },
  {
   "cell_type": "markdown",
   "id": "4f484bd3",
   "metadata": {},
   "source": [
    "#### team:04\n",
    "BY M RAMYA SREE, METTU SIDDHARTHA, POLI VAMSI VARDHAN REDDY"
   ]
  },
  {
   "cell_type": "markdown",
   "id": "de6a400e",
   "metadata": {},
   "source": [
    "# Fraud detection in banks \n"
   ]
  },
  {
   "cell_type": "code",
   "execution_count": 2,
   "id": "c632f372",
   "metadata": {},
   "outputs": [
    {
     "data": {
      "text/html": [
       "<div>\n",
       "<style scoped>\n",
       "    .dataframe tbody tr th:only-of-type {\n",
       "        vertical-align: middle;\n",
       "    }\n",
       "\n",
       "    .dataframe tbody tr th {\n",
       "        vertical-align: top;\n",
       "    }\n",
       "\n",
       "    .dataframe thead th {\n",
       "        text-align: right;\n",
       "    }\n",
       "</style>\n",
       "<table border=\"1\" class=\"dataframe\">\n",
       "  <thead>\n",
       "    <tr style=\"text-align: right;\">\n",
       "      <th></th>\n",
       "      <th>Unnamed: 0</th>\n",
       "      <th>col_0</th>\n",
       "      <th>col_1</th>\n",
       "      <th>col_2</th>\n",
       "      <th>col_3</th>\n",
       "      <th>col_4</th>\n",
       "      <th>col_5</th>\n",
       "      <th>col_6</th>\n",
       "      <th>col_7</th>\n",
       "      <th>col_8</th>\n",
       "      <th>...</th>\n",
       "      <th>col_103</th>\n",
       "      <th>col_104</th>\n",
       "      <th>col_105</th>\n",
       "      <th>col_106</th>\n",
       "      <th>col_107</th>\n",
       "      <th>col_108</th>\n",
       "      <th>col_109</th>\n",
       "      <th>col_110</th>\n",
       "      <th>col_111</th>\n",
       "      <th>targets</th>\n",
       "    </tr>\n",
       "  </thead>\n",
       "  <tbody>\n",
       "    <tr>\n",
       "      <th>0</th>\n",
       "      <td>0</td>\n",
       "      <td>9</td>\n",
       "      <td>1354</td>\n",
       "      <td>0</td>\n",
       "      <td>18</td>\n",
       "      <td>0</td>\n",
       "      <td>1</td>\n",
       "      <td>7</td>\n",
       "      <td>9</td>\n",
       "      <td>0</td>\n",
       "      <td>...</td>\n",
       "      <td>0</td>\n",
       "      <td>0</td>\n",
       "      <td>0</td>\n",
       "      <td>1</td>\n",
       "      <td>1</td>\n",
       "      <td>0</td>\n",
       "      <td>0</td>\n",
       "      <td>0</td>\n",
       "      <td>49</td>\n",
       "      <td>1</td>\n",
       "    </tr>\n",
       "    <tr>\n",
       "      <th>1</th>\n",
       "      <td>1</td>\n",
       "      <td>0</td>\n",
       "      <td>239</td>\n",
       "      <td>0</td>\n",
       "      <td>1</td>\n",
       "      <td>0</td>\n",
       "      <td>1</td>\n",
       "      <td>0</td>\n",
       "      <td>0</td>\n",
       "      <td>0</td>\n",
       "      <td>...</td>\n",
       "      <td>0</td>\n",
       "      <td>1</td>\n",
       "      <td>0</td>\n",
       "      <td>0</td>\n",
       "      <td>0</td>\n",
       "      <td>0</td>\n",
       "      <td>0</td>\n",
       "      <td>0</td>\n",
       "      <td>55</td>\n",
       "      <td>1</td>\n",
       "    </tr>\n",
       "    <tr>\n",
       "      <th>2</th>\n",
       "      <td>2</td>\n",
       "      <td>0</td>\n",
       "      <td>260</td>\n",
       "      <td>0</td>\n",
       "      <td>4</td>\n",
       "      <td>0</td>\n",
       "      <td>3</td>\n",
       "      <td>6</td>\n",
       "      <td>0</td>\n",
       "      <td>0</td>\n",
       "      <td>...</td>\n",
       "      <td>0</td>\n",
       "      <td>0</td>\n",
       "      <td>0</td>\n",
       "      <td>1</td>\n",
       "      <td>1</td>\n",
       "      <td>0</td>\n",
       "      <td>0</td>\n",
       "      <td>0</td>\n",
       "      <td>56</td>\n",
       "      <td>1</td>\n",
       "    </tr>\n",
       "    <tr>\n",
       "      <th>3</th>\n",
       "      <td>3</td>\n",
       "      <td>17</td>\n",
       "      <td>682</td>\n",
       "      <td>0</td>\n",
       "      <td>1</td>\n",
       "      <td>0</td>\n",
       "      <td>0</td>\n",
       "      <td>8</td>\n",
       "      <td>17</td>\n",
       "      <td>0</td>\n",
       "      <td>...</td>\n",
       "      <td>0</td>\n",
       "      <td>1</td>\n",
       "      <td>0</td>\n",
       "      <td>1</td>\n",
       "      <td>1</td>\n",
       "      <td>0</td>\n",
       "      <td>0</td>\n",
       "      <td>0</td>\n",
       "      <td>65</td>\n",
       "      <td>1</td>\n",
       "    </tr>\n",
       "    <tr>\n",
       "      <th>4</th>\n",
       "      <td>4</td>\n",
       "      <td>1</td>\n",
       "      <td>540</td>\n",
       "      <td>0</td>\n",
       "      <td>2</td>\n",
       "      <td>0</td>\n",
       "      <td>1</td>\n",
       "      <td>7</td>\n",
       "      <td>1</td>\n",
       "      <td>0</td>\n",
       "      <td>...</td>\n",
       "      <td>0</td>\n",
       "      <td>0</td>\n",
       "      <td>0</td>\n",
       "      <td>1</td>\n",
       "      <td>1</td>\n",
       "      <td>0</td>\n",
       "      <td>0</td>\n",
       "      <td>0</td>\n",
       "      <td>175</td>\n",
       "      <td>1</td>\n",
       "    </tr>\n",
       "    <tr>\n",
       "      <th>...</th>\n",
       "      <td>...</td>\n",
       "      <td>...</td>\n",
       "      <td>...</td>\n",
       "      <td>...</td>\n",
       "      <td>...</td>\n",
       "      <td>...</td>\n",
       "      <td>...</td>\n",
       "      <td>...</td>\n",
       "      <td>...</td>\n",
       "      <td>...</td>\n",
       "      <td>...</td>\n",
       "      <td>...</td>\n",
       "      <td>...</td>\n",
       "      <td>...</td>\n",
       "      <td>...</td>\n",
       "      <td>...</td>\n",
       "      <td>...</td>\n",
       "      <td>...</td>\n",
       "      <td>...</td>\n",
       "      <td>...</td>\n",
       "      <td>...</td>\n",
       "    </tr>\n",
       "    <tr>\n",
       "      <th>20463</th>\n",
       "      <td>20463</td>\n",
       "      <td>0</td>\n",
       "      <td>88</td>\n",
       "      <td>0</td>\n",
       "      <td>0</td>\n",
       "      <td>0</td>\n",
       "      <td>2</td>\n",
       "      <td>-1</td>\n",
       "      <td>0</td>\n",
       "      <td>0</td>\n",
       "      <td>...</td>\n",
       "      <td>0</td>\n",
       "      <td>1</td>\n",
       "      <td>0</td>\n",
       "      <td>0</td>\n",
       "      <td>0</td>\n",
       "      <td>0</td>\n",
       "      <td>1</td>\n",
       "      <td>0</td>\n",
       "      <td>85</td>\n",
       "      <td>0</td>\n",
       "    </tr>\n",
       "    <tr>\n",
       "      <th>20464</th>\n",
       "      <td>20464</td>\n",
       "      <td>0</td>\n",
       "      <td>134</td>\n",
       "      <td>0</td>\n",
       "      <td>2</td>\n",
       "      <td>0</td>\n",
       "      <td>0</td>\n",
       "      <td>6</td>\n",
       "      <td>0</td>\n",
       "      <td>0</td>\n",
       "      <td>...</td>\n",
       "      <td>0</td>\n",
       "      <td>0</td>\n",
       "      <td>0</td>\n",
       "      <td>0</td>\n",
       "      <td>0</td>\n",
       "      <td>0</td>\n",
       "      <td>0</td>\n",
       "      <td>0</td>\n",
       "      <td>7</td>\n",
       "      <td>0</td>\n",
       "    </tr>\n",
       "    <tr>\n",
       "      <th>20465</th>\n",
       "      <td>20465</td>\n",
       "      <td>4</td>\n",
       "      <td>393</td>\n",
       "      <td>1</td>\n",
       "      <td>1</td>\n",
       "      <td>0</td>\n",
       "      <td>0</td>\n",
       "      <td>-1</td>\n",
       "      <td>4</td>\n",
       "      <td>0</td>\n",
       "      <td>...</td>\n",
       "      <td>0</td>\n",
       "      <td>1</td>\n",
       "      <td>0</td>\n",
       "      <td>0</td>\n",
       "      <td>0</td>\n",
       "      <td>0</td>\n",
       "      <td>0</td>\n",
       "      <td>0</td>\n",
       "      <td>45</td>\n",
       "      <td>0</td>\n",
       "    </tr>\n",
       "    <tr>\n",
       "      <th>20466</th>\n",
       "      <td>20466</td>\n",
       "      <td>0</td>\n",
       "      <td>10</td>\n",
       "      <td>0</td>\n",
       "      <td>1</td>\n",
       "      <td>0</td>\n",
       "      <td>0</td>\n",
       "      <td>-1</td>\n",
       "      <td>0</td>\n",
       "      <td>0</td>\n",
       "      <td>...</td>\n",
       "      <td>0</td>\n",
       "      <td>0</td>\n",
       "      <td>0</td>\n",
       "      <td>0</td>\n",
       "      <td>0</td>\n",
       "      <td>0</td>\n",
       "      <td>0</td>\n",
       "      <td>0</td>\n",
       "      <td>5</td>\n",
       "      <td>0</td>\n",
       "    </tr>\n",
       "    <tr>\n",
       "      <th>20467</th>\n",
       "      <td>20467</td>\n",
       "      <td>4</td>\n",
       "      <td>399</td>\n",
       "      <td>0</td>\n",
       "      <td>3</td>\n",
       "      <td>0</td>\n",
       "      <td>1</td>\n",
       "      <td>7</td>\n",
       "      <td>4</td>\n",
       "      <td>0</td>\n",
       "      <td>...</td>\n",
       "      <td>0</td>\n",
       "      <td>1</td>\n",
       "      <td>0</td>\n",
       "      <td>1</td>\n",
       "      <td>1</td>\n",
       "      <td>0</td>\n",
       "      <td>0</td>\n",
       "      <td>0</td>\n",
       "      <td>72</td>\n",
       "      <td>0</td>\n",
       "    </tr>\n",
       "  </tbody>\n",
       "</table>\n",
       "<p>20468 rows × 114 columns</p>\n",
       "</div>"
      ],
      "text/plain": [
       "       Unnamed: 0  col_0  col_1  col_2  col_3  col_4  col_5  col_6  col_7  \\\n",
       "0               0      9   1354      0     18      0      1      7      9   \n",
       "1               1      0    239      0      1      0      1      0      0   \n",
       "2               2      0    260      0      4      0      3      6      0   \n",
       "3               3     17    682      0      1      0      0      8     17   \n",
       "4               4      1    540      0      2      0      1      7      1   \n",
       "...           ...    ...    ...    ...    ...    ...    ...    ...    ...   \n",
       "20463       20463      0     88      0      0      0      2     -1      0   \n",
       "20464       20464      0    134      0      2      0      0      6      0   \n",
       "20465       20465      4    393      1      1      0      0     -1      4   \n",
       "20466       20466      0     10      0      1      0      0     -1      0   \n",
       "20467       20467      4    399      0      3      0      1      7      4   \n",
       "\n",
       "       col_8  ...  col_103  col_104  col_105  col_106  col_107  col_108  \\\n",
       "0          0  ...        0        0        0        1        1        0   \n",
       "1          0  ...        0        1        0        0        0        0   \n",
       "2          0  ...        0        0        0        1        1        0   \n",
       "3          0  ...        0        1        0        1        1        0   \n",
       "4          0  ...        0        0        0        1        1        0   \n",
       "...      ...  ...      ...      ...      ...      ...      ...      ...   \n",
       "20463      0  ...        0        1        0        0        0        0   \n",
       "20464      0  ...        0        0        0        0        0        0   \n",
       "20465      0  ...        0        1        0        0        0        0   \n",
       "20466      0  ...        0        0        0        0        0        0   \n",
       "20467      0  ...        0        1        0        1        1        0   \n",
       "\n",
       "       col_109  col_110  col_111  targets  \n",
       "0            0        0       49        1  \n",
       "1            0        0       55        1  \n",
       "2            0        0       56        1  \n",
       "3            0        0       65        1  \n",
       "4            0        0      175        1  \n",
       "...        ...      ...      ...      ...  \n",
       "20463        1        0       85        0  \n",
       "20464        0        0        7        0  \n",
       "20465        0        0       45        0  \n",
       "20466        0        0        5        0  \n",
       "20467        0        0       72        0  \n",
       "\n",
       "[20468 rows x 114 columns]"
      ]
     },
     "execution_count": 2,
     "metadata": {},
     "output_type": "execute_result"
    }
   ],
   "source": [
    "data = pd.read_csv(r\"C:\\Users\\himas\\Downloads\\fraud_detection_bank_dataset.csv\\fraud_detection_bank_dataset.csv\") \n",
    "data"
   ]
  },
  {
   "cell_type": "code",
   "execution_count": 3,
   "id": "27b4eae6",
   "metadata": {},
   "outputs": [
    {
     "name": "stdout",
     "output_type": "stream",
     "text": [
      "Null Values: 0\n"
     ]
    }
   ],
   "source": [
    "# Remove the 1st column (Unnamed).\n",
    "data = data.iloc[:,1:]\n",
    "\n",
    "# Rename \"targets\" column to \"is_fraud\".\n",
    "data.rename(columns={'targets': 'is_fraud'}, inplace=True) \n",
    "\n",
    "# Check for any null values in each column\n",
    "print(f'Null Values: {sum(data.isnull().sum())}')"
   ]
  },
  {
   "cell_type": "code",
   "execution_count": 4,
   "id": "07059a51",
   "metadata": {},
   "outputs": [
    {
     "name": "stdout",
     "output_type": "stream",
     "text": [
      "Non-Fraud: 15030 (73.4317%)\n",
      "Fraud: 5438 (26.5683%)\n"
     ]
    }
   ],
   "source": [
    "# Obtain the number of fraud & non-fraud objects.\n",
    "class_balance = data.is_fraud.value_counts()\n",
    "fraud_percentage = ((class_balance[1]/len(data))*100)\n",
    "\n",
    "print(f'Non-Fraud: {class_balance[0]} '\n",
    "      f'({(100-fraud_percentage).__round__(4)}%)')\n",
    "print(f'Fraud: {class_balance[1]} '\n",
    "      f'({fraud_percentage.__round__(4)}%)')"
   ]
  },
  {
   "cell_type": "code",
   "execution_count": 5,
   "id": "3d9cbfa8",
   "metadata": {},
   "outputs": [],
   "source": [
    "from sklearn.model_selection import train_test_split"
   ]
  },
  {
   "cell_type": "code",
   "execution_count": 6,
   "id": "b9c17cbc",
   "metadata": {},
   "outputs": [
    {
     "name": "stdout",
     "output_type": "stream",
     "text": [
      "Feature Datatypes\n",
      "-----------------\n",
      "int64      111\n",
      "float64      1\n",
      "dtype: int64\n",
      "\n",
      "Training Shape\n",
      "--------------\n",
      "Input: (16374, 112)\n",
      "Output: (16374,)\n",
      "\n",
      "Testing Shape\n",
      "--------------\n",
      "Input: (4094, 112)\n",
      "Output: (4094,)\n"
     ]
    }
   ],
   "source": [
    "test_data_fraction = 0.2 # Allocate 20% of the data for testing.\n",
    "random_seed = 20\n",
    "\n",
    "X = data.iloc[:,0:-1] # Features (inputs).\n",
    "y = data.is_fraud # Target (output).\n",
    "\n",
    "# Verify all features are numerical\n",
    "print(f'Feature Datatypes\\n-----------------\\n'\n",
    "      f'{X.dtypes.value_counts()}\\n')\n",
    "\n",
    "# Split data into training (80%) and testing (20%).\n",
    "X_train, X_test, y_train, y_test = train_test_split(X, y, test_size=test_data_fraction, \n",
    "                                                    random_state=random_seed)\n",
    "# Obtain shape of training and testing data.\n",
    "print('Training Shape\\n--------------')\n",
    "print(f'Input: {X_train.shape}')\n",
    "print(f'Output: {y_train.shape}')\n",
    "\n",
    "print('\\nTesting Shape\\n--------------')\n",
    "print(f'Input: {X_test.shape}')\n",
    "print(f'Output: {y_test.shape}')"
   ]
  },
  {
   "cell_type": "code",
   "execution_count": 7,
   "id": "bf8c48d2",
   "metadata": {},
   "outputs": [],
   "source": [
    "def disp_confMatrix():\n",
    "    cm = confusion_matrix(y_test, y_test_predicted)\n",
    "    cmp = ConfusionMatrixDisplay(cm, display_labels=target_names)\n",
    "    fig, ax = plt.subplots(figsize=(7,7))\n",
    "    cmp.plot(ax=ax)\n",
    "    plt.show()\n",
    "    \n",
    "    return None"
   ]
  },
  {
   "cell_type": "code",
   "execution_count": 8,
   "id": "3f770976",
   "metadata": {},
   "outputs": [],
   "source": [
    "target_names = ['non-fraud (0)', 'fraud (1)'] # Used for classification report.\n",
    "false_pos = [] # Create list for false-positives.\n",
    "false_neg = [] # Create list for false-negatives.\n",
    "train_f1_scores = [] # Create list for training data F1 scores.\n",
    "test_f1_scores = []  # Create list for testing data F1 scores.\n",
    "train_accs = [] # Create list for training data accuracies.\n",
    "test_accs = []  # Create list for testing data accuracies."
   ]
  },
  {
   "cell_type": "code",
   "execution_count": 9,
   "id": "70753cb6",
   "metadata": {},
   "outputs": [],
   "source": [
    "import matplotlib.pyplot as plt\n",
    "from sklearn.metrics import auc\n",
    "from sklearn.metrics import f1_score\n",
    "from sklearn.metrics import accuracy_score\n",
    "from sklearn.metrics import confusion_matrix\n",
    "from sklearn.metrics import classification_report\n",
    "from sklearn.metrics import ConfusionMatrixDisplay\n",
    "from sklearn.metrics import precision_recall_curve\n",
    "from sklearn.model_selection import validation_curve"
   ]
  },
  {
   "cell_type": "markdown",
   "id": "d54a2629",
   "metadata": {},
   "source": [
    "### DECISION TREE\n"
   ]
  },
  {
   "cell_type": "code",
   "execution_count": 10,
   "id": "979ad049",
   "metadata": {},
   "outputs": [
    {
     "name": "stdout",
     "output_type": "stream",
     "text": [
      "Accuracy: 90.52271617000488\n"
     ]
    }
   ],
   "source": [
    "#decision tree\n",
    "from sklearn.tree import DecisionTreeClassifier \n",
    "model_d = DecisionTreeClassifier()\n",
    "model_d = model_d.fit(X_train,y_train)\n",
    "y_test_predicted1= model_d.predict(X_test)\n",
    "\n",
    "#Evaluation using Accuracy score\n",
    "from sklearn import metrics \n",
    "da=metrics.accuracy_score(y_test,y_test_predicted1 )*100\n",
    "print(\"Accuracy:\",da)"
   ]
  },
  {
   "cell_type": "code",
   "execution_count": 11,
   "id": "263f1d01",
   "metadata": {},
   "outputs": [
    {
     "data": {
      "text/plain": [
       "array([[2782,  211],\n",
       "       [ 177,  924]], dtype=int64)"
      ]
     },
     "execution_count": 11,
     "metadata": {},
     "output_type": "execute_result"
    }
   ],
   "source": [
    "#Evaluation using Confusion matrix\n",
    "from sklearn.metrics import confusion_matrix\n",
    "confusion_matrix(y_test,y_test_predicted1)"
   ]
  },
  {
   "cell_type": "code",
   "execution_count": 12,
   "id": "51a2467e",
   "metadata": {},
   "outputs": [
    {
     "name": "stdout",
     "output_type": "stream",
     "text": [
      "              precision    recall  f1-score   support\n",
      "\n",
      "           0       0.94      0.93      0.93      2993\n",
      "           1       0.81      0.84      0.83      1101\n",
      "\n",
      "    accuracy                           0.91      4094\n",
      "   macro avg       0.88      0.88      0.88      4094\n",
      "weighted avg       0.91      0.91      0.91      4094\n",
      "\n"
     ]
    }
   ],
   "source": [
    "\n",
    "\n",
    "#object\n",
    "#Evaluation using Classification report\n",
    "from sklearn.metrics import classification_report\n",
    "print(classification_report(y_test,y_test_predicted1))"
   ]
  },
  {
   "cell_type": "code",
   "execution_count": 13,
   "id": "22a56511",
   "metadata": {},
   "outputs": [
    {
     "name": "stdout",
     "output_type": "stream",
     "text": [
      "Accuracy of test : 86.44357596482658\n",
      "Accuracy of train : 87.04042994992061\n"
     ]
    }
   ],
   "source": [
    "# Create Decision Tree classifer object\n",
    "model_2 = DecisionTreeClassifier(criterion=\"entropy\", max_depth=3)\n",
    "\n",
    "# Train Decision Tree Classifer\n",
    "model_2 = model_2.fit(X_train,y_train)\n",
    "\n",
    "#Predict the response for test dataset\n",
    "y_test_predicted = model_2.predict(X_test)\n",
    "y_train_predicted=model_2.predict(X_train)\n",
    "\n",
    "dda=metrics.accuracy_score(y_test,y_test_predicted)*100\n",
    "dda_t=metrics.accuracy_score(y_train,y_train_predicted)*100\n",
    "# Model Accuracy\n",
    "print(\"Accuracy of test :\",dda)\n",
    "\n",
    "print(\"Accuracy of train :\",dda_t)\n"
   ]
  },
  {
   "cell_type": "code",
   "execution_count": 14,
   "id": "78d9bc6a",
   "metadata": {},
   "outputs": [
    {
     "name": "stdout",
     "output_type": "stream",
     "text": [
      "Precision of test : 69.472182596291\n",
      "Precision of train : 70.92386170413754\n"
     ]
    }
   ],
   "source": [
    "dp=metrics.precision_score(y_test,y_test_predicted )*100\n",
    "dp_t=metrics.precision_score(y_train,y_train_predicted )*100\n",
    "print(\"Precision of test :\",dp)\n",
    "\n",
    "print(\"Precision of train :\",dp_t)"
   ]
  },
  {
   "cell_type": "code",
   "execution_count": 15,
   "id": "9cfcf603",
   "metadata": {},
   "outputs": [
    {
     "name": "stdout",
     "output_type": "stream",
     "text": [
      "Recall of test : 88.46503178928246\n",
      "Recall of train : 86.55752824533087\n"
     ]
    }
   ],
   "source": [
    "dr=metrics.recall_score(y_test,y_test_predicted )*100\n",
    "dr_t=metrics.recall_score(y_train,y_train_predicted )*100\n",
    "print(\"Recall of test :\",dr)\n",
    "\n",
    "print(\"Recall of train :\",dr_t)"
   ]
  },
  {
   "cell_type": "code",
   "execution_count": 16,
   "id": "5be7780a",
   "metadata": {},
   "outputs": [
    {
     "name": "stdout",
     "output_type": "stream",
     "text": [
      "f1 score of test : 77.82660807031561\n",
      "f1 score of train : 77.96469366562823\n"
     ]
    }
   ],
   "source": [
    "df=metrics.f1_score(y_test, y_test_predicted)*100\n",
    "df_t=metrics.f1_score(y_train, y_train_predicted)*100\n",
    "print(\"f1 score of test :\",df)\n",
    "\n",
    "print(\"f1 score of train :\",df_t)"
   ]
  },
  {
   "cell_type": "code",
   "execution_count": 17,
   "id": "e5cc5b8b",
   "metadata": {},
   "outputs": [
    {
     "data": {
      "image/png": "[encoded data removed]",
      "text/plain": [
       "<Figure size 504x504 with 2 Axes>"
      ]
     },
     "metadata": {
      "needs_background": "light"
     },
     "output_type": "display_data"
    }
   ],
   "source": [
    "disp_confMatrix() "
   ]
  },
  {
   "cell_type": "code",
   "execution_count": 18,
   "id": "1e409bd5",
   "metadata": {},
   "outputs": [
    {
     "name": "stdout",
     "output_type": "stream",
     "text": [
      "Confusion Matrix of test : [[256500  42800]\n",
      " [ 12700  97400]]\n",
      "Confusion Matrix of train : [[1049800  153900]\n",
      " [  58300  375400]]\n"
     ]
    }
   ],
   "source": [
    "\n",
    "dc=metrics.confusion_matrix(y_test,y_test_predicted)*100\n",
    "dc_t=metrics.confusion_matrix(y_train,y_train_predicted)*100\n",
    "\n",
    "print(\"Confusion Matrix of test :\",dc)\n",
    "\n",
    "print(\"Confusion Matrix of train :\",dc_t)\n"
   ]
  },
  {
   "cell_type": "markdown",
   "id": "bb1aa119",
   "metadata": {},
   "source": [
    "### KNN - (K-Nearest Neighbour)"
   ]
  },
  {
   "cell_type": "code",
   "execution_count": 19,
   "id": "79a134f3",
   "metadata": {},
   "outputs": [],
   "source": [
    "\n",
    "from sklearn.neighbors import KNeighborsClassifier\n"
   ]
  },
  {
   "cell_type": "code",
   "execution_count": 20,
   "id": "9a40feea",
   "metadata": {},
   "outputs": [
    {
     "name": "stdout",
     "output_type": "stream",
     "text": [
      "Accuracy of test : 84.53834880312652\n",
      "Accuracy of train : 88.43898864052765\n"
     ]
    }
   ],
   "source": [
    "Knn=KNeighborsClassifier()\n",
    "Knn.fit(X_train,y_train)\n",
    "y_test_predicted=Knn.predict(X_test)\n",
    "y_train_predicted=Knn.predict(X_train)\n",
    "ka=metrics.accuracy_score(y_test,y_test_predicted)*100\n",
    "ka_t=metrics.accuracy_score(y_train,y_train_predicted)*100\n",
    "\n",
    "print(\"Accuracy of test :\",ka)\n",
    "\n",
    "print(\"Accuracy of train :\",ka_t)"
   ]
  },
  {
   "cell_type": "code",
   "execution_count": 21,
   "id": "c9e1064a",
   "metadata": {},
   "outputs": [
    {
     "name": "stdout",
     "output_type": "stream",
     "text": [
      "Precision of test : 73.35329341317365\n",
      "Precision of train : 82.67379679144385\n"
     ]
    }
   ],
   "source": [
    "kp=metrics.precision_score(y_test,y_test_predicted)*100\n",
    "kp_t=metrics.precision_score(y_train,y_train_predicted)*100\n",
    "print(\"Precision of test :\",kp)\n",
    "\n",
    "print(\"Precision of train :\",kp_t)"
   ]
  },
  {
   "cell_type": "code",
   "execution_count": 22,
   "id": "9d295d0d",
   "metadata": {},
   "outputs": [
    {
     "name": "stdout",
     "output_type": "stream",
     "text": [
      "Recall of test : 66.7574931880109\n",
      "Recall of train : 71.29352086695873\n"
     ]
    }
   ],
   "source": [
    "kr=metrics.recall_score(y_test,y_test_predicted)*100\n",
    "kr_t=metrics.recall_score(y_train,y_train_predicted)*100\n",
    "print(\"Recall of test :\",kr)\n",
    "\n",
    "print(\"Recall of train :\",kr_t)"
   ]
  },
  {
   "cell_type": "code",
   "execution_count": 23,
   "id": "300005bb",
   "metadata": {},
   "outputs": [
    {
     "name": "stdout",
     "output_type": "stream",
     "text": [
      "f1 score of test : 69.90014265335235\n",
      "f1 score of train : 76.56308035161571\n"
     ]
    }
   ],
   "source": [
    "kf=metrics.f1_score(y_test,y_test_predicted)*100\n",
    "kf_t=metrics.f1_score(y_train,y_train_predicted)*100\n",
    "print(\"f1 score of test :\",kf)\n",
    "\n",
    "print(\"f1 score of train :\",kf_t)"
   ]
  },
  {
   "cell_type": "code",
   "execution_count": 24,
   "id": "ef29fdbf",
   "metadata": {},
   "outputs": [
    {
     "name": "stdout",
     "output_type": "stream",
     "text": [
      "Confusion Matrix of test : [[272600  26700]\n",
      " [ 36600  73500]]\n",
      "Confusion Matrix of train : [[1138900   64800]\n",
      " [ 124500  309200]]\n"
     ]
    }
   ],
   "source": [
    "kc=metrics.confusion_matrix(y_test,y_test_predicted)*100\n",
    "kc_t=metrics.confusion_matrix(y_train,y_train_predicted)*100\n",
    "print(\"Confusion Matrix of test :\",kc)\n",
    "\n",
    "print(\"Confusion Matrix of train :\",kc_t)"
   ]
  },
  {
   "cell_type": "code",
   "execution_count": 25,
   "id": "80e40bea",
   "metadata": {},
   "outputs": [
    {
     "data": {
      "image/png": "[encoded data removed]",
      "text/plain": [
       "<Figure size 504x504 with 2 Axes>"
      ]
     },
     "metadata": {
      "needs_background": "light"
     },
     "output_type": "display_data"
    }
   ],
   "source": [
    "disp_confMatrix() \n"
   ]
  },
  {
   "cell_type": "markdown",
   "id": "c785f570",
   "metadata": {},
   "source": [
    "### RANDOM FOREST"
   ]
  },
  {
   "cell_type": "code",
   "execution_count": 26,
   "id": "d32f92b1",
   "metadata": {},
   "outputs": [],
   "source": [
    "\n",
    "\n",
    "#random forest\n",
    "\n",
    "from sklearn.ensemble import RandomForestClassifier\n"
   ]
  },
  {
   "cell_type": "code",
   "execution_count": 27,
   "id": "b0b96c02",
   "metadata": {},
   "outputs": [
    {
     "name": "stdout",
     "output_type": "stream",
     "text": [
      "Accuracy of test : 93.25842696629213\n",
      "Accuracy of train : 88.43898864052765\n"
     ]
    }
   ],
   "source": [
    "RR=RandomForestClassifier()\n",
    "RR.fit(X_train,y_train)\n",
    "y_test_predicted=RR.predict(X_test)\n",
    "rr_a=metrics.accuracy_score(y_test,y_test_predicted)*100\n",
    "rr_a_t=metrics.accuracy_score(y_train,y_train_predicted)*100\n",
    "print(\"Accuracy of test :\",rr_a)\n",
    "\n",
    "print(\"Accuracy of train :\",rr_a_t)\n",
    "\n"
   ]
  },
  {
   "cell_type": "code",
   "execution_count": 28,
   "id": "2ae11c61",
   "metadata": {},
   "outputs": [
    {
     "name": "stdout",
     "output_type": "stream",
     "text": [
      "Precision of test : 90.72063178677196\n",
      "Precision of train : 82.67379679144385\n"
     ]
    }
   ],
   "source": [
    "RP=metrics.precision_score(y_test,y_test_predicted)*100\n",
    "RP_t=metrics.precision_score(y_train,y_train_predicted)*100\n",
    "print(\"Precision of test :\",RP)\n",
    "\n",
    "print(\"Precision of train :\",RP_t)"
   ]
  },
  {
   "cell_type": "code",
   "execution_count": 29,
   "id": "9252b175",
   "metadata": {},
   "outputs": [
    {
     "name": "stdout",
     "output_type": "stream",
     "text": [
      "Recall of test : 83.46957311534968\n",
      "Recall of train : 71.29352086695873\n"
     ]
    }
   ],
   "source": [
    "RRS=metrics.recall_score(y_test,y_test_predicted)*100\n",
    "RRS_t=metrics.recall_score(y_train,y_train_predicted)*100\n",
    "print(\"Recall of test :\",RRS)\n",
    "\n",
    "print(\"Recall of train :\",RRS_t)"
   ]
  },
  {
   "cell_type": "code",
   "execution_count": 30,
   "id": "37c3eae3",
   "metadata": {},
   "outputs": [
    {
     "name": "stdout",
     "output_type": "stream",
     "text": [
      "f1 score of test : 86.9441816461684\n",
      "f1 score of train : 76.56308035161571\n"
     ]
    }
   ],
   "source": [
    "RF=metrics.f1_score(y_test,y_test_predicted)*100\n",
    "RF_t=metrics.f1_score(y_train,y_train_predicted)*100\n",
    "print(\"f1 score of test :\",RF)\n",
    "\n",
    "print(\"f1 score of train :\",RF_t)"
   ]
  },
  {
   "cell_type": "code",
   "execution_count": 31,
   "id": "bf312326",
   "metadata": {},
   "outputs": [
    {
     "name": "stdout",
     "output_type": "stream",
     "text": [
      "Confusion Matrix of test : [[289900   9400]\n",
      " [ 18200  91900]]\n",
      "Confusion Matrix of train : [[1138900   64800]\n",
      " [ 124500  309200]]\n"
     ]
    }
   ],
   "source": [
    "RC=metrics.confusion_matrix(y_test,y_test_predicted)*100\n",
    "RC_t=metrics.confusion_matrix(y_train,y_train_predicted)*100\n",
    "print(\"Confusion Matrix of test :\",RC)\n",
    "\n",
    "print(\"Confusion Matrix of train :\",RC_t)"
   ]
  },
  {
   "cell_type": "code",
   "execution_count": 32,
   "id": "5b84caaf",
   "metadata": {},
   "outputs": [
    {
     "data": {
      "image/png": "[encoded data removed]",
      "text/plain": [
       "<Figure size 504x504 with 2 Axes>"
      ]
     },
     "metadata": {
      "needs_background": "light"
     },
     "output_type": "display_data"
    }
   ],
   "source": [
    "disp_confMatrix() "
   ]
  },
  {
   "cell_type": "markdown",
   "id": "3af296a5",
   "metadata": {},
   "source": [
    "### SVM - ( Support Vector Machine)\n"
   ]
  },
  {
   "cell_type": "code",
   "execution_count": 33,
   "id": "cf708265",
   "metadata": {},
   "outputs": [],
   "source": [
    "\n",
    "#SVM\n",
    "from sklearn.svm import SVC \n",
    "\n"
   ]
  },
  {
   "cell_type": "code",
   "execution_count": 34,
   "id": "ea5cb93d",
   "metadata": {},
   "outputs": [
    {
     "name": "stdout",
     "output_type": "stream",
     "text": [
      "Accuracy of test : 73.10698583292623\n",
      "Accuracy of train : 73.51288628313179\n"
     ]
    }
   ],
   "source": [
    "SS=SVC()\n",
    "SS.fit(X_train,y_train)\n",
    "y_test_predicted=SS.predict(X_test)\n",
    "y_train_predicted=SS.predict(X_train)\n",
    "sa=metrics.accuracy_score(y_test,y_test_predicted)*100\n",
    "sa_t=metrics.accuracy_score(y_train,y_train_predicted)*100\n",
    "print(\"Accuracy of test :\",sa)\n",
    "\n",
    "print(\"Accuracy of train :\",sa_t)"
   ]
  },
  {
   "cell_type": "code",
   "execution_count": 54,
   "id": "5a78e07a",
   "metadata": {},
   "outputs": [
    {
     "name": "stdout",
     "output_type": "stream",
     "text": [
      "Precision of test : 56.78346810422282\n",
      "Precision of train : 57.983794089609155\n"
     ]
    }
   ],
   "source": [
    "sp=metrics.precision_score(y_test,y_test_predicted)*100\n",
    "sp_t=metrics.precision_score(y_train,y_train_predicted)*100\n",
    "#sp=metrics.precision_score(y_train_predicted,y_test_predicted , pos_label='positive',average='micro')*100\n",
    "print(\"Precision of test :\",sp)\n",
    "\n",
    "print(\"Precision of train :\",sp_t)"
   ]
  },
  {
   "cell_type": "code",
   "execution_count": 55,
   "id": "a4d2027d",
   "metadata": {},
   "outputs": [
    {
     "name": "stdout",
     "output_type": "stream",
     "text": [
      "Recall of test : 57.402361489554956\n",
      "Recall of train : 56.09868572746139\n",
      "f1 score of test : 57.091237579042456\n",
      "f1 score of train : 57.02566506504161\n"
     ]
    }
   ],
   "source": [
    "sr=metrics.recall_score(y_test,y_test_predicted)*100\n",
    "sr_t=metrics.recall_score(y_train,y_train_predicted)*100\n",
    "print(\"Recall of test :\",sr)\n",
    "\n",
    "print(\"Recall of train :\",sr_t)\n",
    "\n",
    "sf=metrics.f1_score(y_test,y_test_predicted)*100\n",
    "sf_t=metrics.f1_score(y_train,y_train_predicted)*100\n",
    "print(\"f1 score of test :\",sf)\n",
    "\n",
    "print(\"f1 score of train :\",sf_t)\n"
   ]
  },
  {
   "cell_type": "code",
   "execution_count": 56,
   "id": "a1336e7f",
   "metadata": {},
   "outputs": [
    {
     "name": "stdout",
     "output_type": "stream",
     "text": [
      "Confusion Matrix of test : [[251200  48100]\n",
      " [ 46900  63200]]\n",
      "Confusion Matrix of train : [[1027400  176300]\n",
      " [ 190400  243300]]\n"
     ]
    }
   ],
   "source": [
    "sc=metrics.confusion_matrix(y_test,y_test_predicted)*100\n",
    "sc_t=metrics.confusion_matrix(y_train,y_train_predicted)*100\n",
    "print(\"Confusion Matrix of test :\",sc)\n",
    "\n",
    "print(\"Confusion Matrix of train :\",sc_t)"
   ]
  },
  {
   "cell_type": "code",
   "execution_count": 57,
   "id": "9a49eac1",
   "metadata": {},
   "outputs": [
    {
     "data": {
      "image/png": "[encoded data removed]",
      "text/plain": [
       "<Figure size 504x504 with 2 Axes>"
      ]
     },
     "metadata": {
      "needs_background": "light"
     },
     "output_type": "display_data"
    }
   ],
   "source": [
    "disp_confMatrix() "
   ]
  },
  {
   "cell_type": "markdown",
   "id": "437addbd",
   "metadata": {},
   "source": [
    "### Logistic Regression"
   ]
  },
  {
   "cell_type": "code",
   "execution_count": 39,
   "id": "26b51c12",
   "metadata": {},
   "outputs": [],
   "source": [
    "\n",
    "from sklearn.linear_model import LogisticRegression"
   ]
  },
  {
   "cell_type": "code",
   "execution_count": 40,
   "id": "a5e11189",
   "metadata": {},
   "outputs": [
    {
     "name": "stdout",
     "output_type": "stream",
     "text": [
      "Accuracy of test : 76.7953102100635\n",
      "Accuracy of train : 77.60473922071577\n"
     ]
    },
    {
     "name": "stderr",
     "output_type": "stream",
     "text": [
      "C:\\Users\\himas\\anaconda3\\lib\\site-packages\\sklearn\\linear_model\\_logistic.py:814: ConvergenceWarning: lbfgs failed to converge (status=1):\n",
      "STOP: TOTAL NO. of ITERATIONS REACHED LIMIT.\n",
      "\n",
      "Increase the number of iterations (max_iter) or scale the data as shown in:\n",
      "    https://scikit-learn.org/stable/modules/preprocessing.html\n",
      "Please also refer to the documentation for alternative solver options:\n",
      "    https://scikit-learn.org/stable/modules/linear_model.html#logistic-regression\n",
      "  n_iter_i = _check_optimize_result(\n"
     ]
    }
   ],
   "source": [
    "LR=LogisticRegression()\n",
    "LR.fit(X_train,y_train)\n",
    "y_test_predicted=LR.predict(X_test)\n",
    "y_train_predicted=LR.predict(X_train)\n",
    "la=metrics.accuracy_score(y_test,y_test_predicted)*100\n",
    "la_t=metrics.accuracy_score(y_train,y_train_predicted)*100\n",
    "print(\"Accuracy of test :\",la)\n",
    "\n",
    "print(\"Accuracy of train :\",la_t)"
   ]
  },
  {
   "cell_type": "code",
   "execution_count": 41,
   "id": "fc503b50",
   "metadata": {},
   "outputs": [
    {
     "name": "stdout",
     "output_type": "stream",
     "text": [
      "Precision of test : 56.78346810422282\n",
      "Precision of train : 57.983794089609155\n"
     ]
    }
   ],
   "source": [
    "lp=metrics.precision_score(y_test,y_test_predicted)*100\n",
    "lp_t=metrics.precision_score(y_train,y_train_predicted)*100\n",
    "#sp=metrics.precision_score(y_train_predicted,y_test_predicted , pos_label='positive',average='micro')*100\n",
    "print(\"Precision of test :\",lp)\n",
    "\n",
    "print(\"Precision of train :\",lp_t)"
   ]
  },
  {
   "cell_type": "code",
   "execution_count": 42,
   "id": "2f75f5cd",
   "metadata": {},
   "outputs": [
    {
     "name": "stdout",
     "output_type": "stream",
     "text": [
      "Recall of test : 57.402361489554956\n",
      "Recall of train : 56.09868572746139\n",
      "f1 score of test : 57.091237579042456\n",
      "f1 score of train : 57.02566506504161\n"
     ]
    }
   ],
   "source": [
    "lr=metrics.recall_score(y_test,y_test_predicted)*100\n",
    "lr_t=metrics.recall_score(y_train,y_train_predicted)*100\n",
    "print(\"Recall of test :\",lr)\n",
    "\n",
    "print(\"Recall of train :\",lr_t)\n",
    "\n",
    "\n",
    "lf=metrics.f1_score(y_test,y_test_predicted)*100\n",
    "lf_t=metrics.f1_score(y_train,y_train_predicted)*100\n",
    "print(\"f1 score of test :\",lf)\n",
    "\n",
    "print(\"f1 score of train :\",lf_t)\n"
   ]
  },
  {
   "cell_type": "code",
   "execution_count": 43,
   "id": "cb08663b",
   "metadata": {},
   "outputs": [
    {
     "name": "stdout",
     "output_type": "stream",
     "text": [
      "Confusion Matrix of test : [[251200  48100]\n",
      " [ 46900  63200]]\n",
      "Confusion Matrix of train : [[1027400  176300]\n",
      " [ 190400  243300]]\n"
     ]
    }
   ],
   "source": [
    "lc=metrics.confusion_matrix(y_test,y_test_predicted)*100\n",
    "lc_t=metrics.confusion_matrix(y_train,y_train_predicted)*100\n",
    "print(\"Confusion Matrix of test :\",lc)\n",
    "\n",
    "print(\"Confusion Matrix of train :\",lc_t)\n",
    "\n",
    "\n"
   ]
  },
  {
   "cell_type": "code",
   "execution_count": 44,
   "id": "1c012307",
   "metadata": {},
   "outputs": [
    {
     "data": {
      "image/png": "[encoded data removed]",
      "text/plain": [
       "<Figure size 504x504 with 2 Axes>"
      ]
     },
     "metadata": {
      "needs_background": "light"
     },
     "output_type": "display_data"
    }
   ],
   "source": [
    "disp_confMatrix() "
   ]
  },
  {
   "cell_type": "markdown",
   "id": "be069078",
   "metadata": {},
   "source": [
    "###### Accuracy of test\n"
   ]
  },
  {
   "cell_type": "code",
   "execution_count": 45,
   "id": "60777863",
   "metadata": {},
   "outputs": [],
   "source": [
    "import matplotlib.pyplot as plt"
   ]
  },
  {
   "cell_type": "code",
   "execution_count": 72,
   "id": "8c022f8a",
   "metadata": {},
   "outputs": [
    {
     "data": {
      "text/plain": [
       "Text(0, 0.5, 'Accuracy of test')"
      ]
     },
     "execution_count": 72,
     "metadata": {},
     "output_type": "execute_result"
    },
    {
     "data": {
      "image/png": "[encoded data removed]",
      "text/plain": [
       "<Figure size 432x288 with 1 Axes>"
      ]
     },
     "metadata": {
      "needs_background": "light"
     },
     "output_type": "display_data"
    }
   ],
   "source": [
    "x=['KNN','SVM','DECISION.T','LOGISTIC.R','RANDOM.F']\n",
    "y=[ka,sa,dda,la,rr_a]\n",
    "plt.bar(x,y,width=0.9,color='pink')\n",
    "plt.xlabel(\"ML Model\")\n",
    "plt.ylabel(\"Accuracy of test\")"
   ]
  },
  {
   "cell_type": "markdown",
   "id": "1bdc8aab",
   "metadata": {},
   "source": [
    "###### Accuracy of train\n"
   ]
  },
  {
   "cell_type": "code",
   "execution_count": 71,
   "id": "71d66dee",
   "metadata": {},
   "outputs": [
    {
     "data": {
      "text/plain": [
       "Text(0, 0.5, 'Accuracy of train')"
      ]
     },
     "execution_count": 71,
     "metadata": {},
     "output_type": "execute_result"
    },
    {
     "data": {
      "image/png": "[encoded data removed]",
      "text/plain": [
       "<Figure size 432x288 with 1 Axes>"
      ]
     },
     "metadata": {
      "needs_background": "light"
     },
     "output_type": "display_data"
    }
   ],
   "source": [
    "x=['KNN','SVM','DECISION.T','LOGISTIC.R','RANDOM.F']\n",
    "y=[ka_t,sa_t,dda_t,la_t,rr_a_t]\n",
    "plt.bar(x,y,width=0.9,color='pink')\n",
    "plt.xlabel(\"ML Model\")\n",
    "plt.ylabel(\"Accuracy of train\")"
   ]
  },
  {
   "cell_type": "markdown",
   "id": "074bf49b",
   "metadata": {},
   "source": [
    "###### Precision of test"
   ]
  },
  {
   "cell_type": "code",
   "execution_count": 70,
   "id": "b54f20f9",
   "metadata": {},
   "outputs": [
    {
     "data": {
      "text/plain": [
       "Text(0, 0.5, 'Precision of test')"
      ]
     },
     "execution_count": 70,
     "metadata": {},
     "output_type": "execute_result"
    },
    {
     "data": {
      "image/png": "[encoded data removed]",
      "text/plain": [
       "<Figure size 432x288 with 1 Axes>"
      ]
     },
     "metadata": {
      "needs_background": "light"
     },
     "output_type": "display_data"
    }
   ],
   "source": [
    "x=['KNN','SVM','DECISION.T','LOGISTIC.R','RANDOM.F']\n",
    "y=[kp,sp,dp,lp,RP]\n",
    "plt.bar(x,y,width=0.9,color='orange')\n",
    "plt.xlabel(\"ML Model\")\n",
    "plt.ylabel(\"Precision of test\")"
   ]
  },
  {
   "cell_type": "markdown",
   "id": "4c9dbb83",
   "metadata": {},
   "source": [
    "###### Precision of train"
   ]
  },
  {
   "cell_type": "code",
   "execution_count": 69,
   "id": "c78c8ba6",
   "metadata": {},
   "outputs": [
    {
     "data": {
      "text/plain": [
       "Text(0, 0.5, 'Precision of train')"
      ]
     },
     "execution_count": 69,
     "metadata": {},
     "output_type": "execute_result"
    },
    {
     "data": {
      "image/png": "[encoded data removed]",
      "text/plain": [
       "<Figure size 432x288 with 1 Axes>"
      ]
     },
     "metadata": {
      "needs_background": "light"
     },
     "output_type": "display_data"
    }
   ],
   "source": [
    "x=['KNN','SVM','DECISION.T','LOGISTIC.R','RANDOM.F']\n",
    "y=[kp_t,sp_t,dp_t,lp_t,RP_t]\n",
    "plt.bar(x,y,width=0.9,color='orange')\n",
    "plt.xlabel(\"ML Model\")\n",
    "plt.ylabel(\"Precision of train\")"
   ]
  },
  {
   "cell_type": "markdown",
   "id": "da34c1d2",
   "metadata": {},
   "source": [
    "###### recall_score of test"
   ]
  },
  {
   "cell_type": "code",
   "execution_count": 68,
   "id": "e9bda613",
   "metadata": {},
   "outputs": [
    {
     "data": {
      "text/plain": [
       "Text(0, 0.5, 'recall_score of test')"
      ]
     },
     "execution_count": 68,
     "metadata": {},
     "output_type": "execute_result"
    },
    {
     "data": {
      "image/png": "[encoded data removed]",
      "text/plain": [
       "<Figure size 432x288 with 1 Axes>"
      ]
     },
     "metadata": {
      "needs_background": "light"
     },
     "output_type": "display_data"
    }
   ],
   "source": [
    "x=['KNN','SVM','DECISION.T','LOGISTIC.R','RANDOM.F']\n",
    "y=[kr,sr,dr,lr,RRS]\n",
    "plt.bar(x,y,width=0.9,color='BLUE')\n",
    "plt.xlabel(\"ML Model\")\n",
    "plt.ylabel(\"recall_score of test\")"
   ]
  },
  {
   "cell_type": "markdown",
   "id": "e5f0ba74",
   "metadata": {},
   "source": [
    "###### recall_score of train"
   ]
  },
  {
   "cell_type": "code",
   "execution_count": 67,
   "id": "68ab5148",
   "metadata": {},
   "outputs": [
    {
     "data": {
      "text/plain": [
       "Text(0, 0.5, 'recall_score of train')"
      ]
     },
     "execution_count": 67,
     "metadata": {},
     "output_type": "execute_result"
    },
    {
     "data": {
      "image/png": "[encoded data removed]",
      "text/plain": [
       "<Figure size 432x288 with 1 Axes>"
      ]
     },
     "metadata": {
      "needs_background": "light"
     },
     "output_type": "display_data"
    }
   ],
   "source": [
    "x=['KNN','SVM','DECISION.T','LOGISTIC.R','RANDOM.F']\n",
    "y=[kr_t,sr_t,dr_t,lr_t,RRS_t]\n",
    "plt.bar(x,y,width=0.9,color='BLUE')\n",
    "plt.xlabel(\"ML Model\")\n",
    "plt.ylabel(\"recall_score of train\")"
   ]
  },
  {
   "cell_type": "markdown",
   "id": "bb051635",
   "metadata": {},
   "source": [
    "###### f1_score of test"
   ]
  },
  {
   "cell_type": "code",
   "execution_count": 66,
   "id": "678b87d4",
   "metadata": {},
   "outputs": [
    {
     "data": {
      "text/plain": [
       "Text(0, 0.5, 'f1_score of test')"
      ]
     },
     "execution_count": 66,
     "metadata": {},
     "output_type": "execute_result"
    },
    {
     "data": {
      "image/png": "[encoded data removed]",
      "text/plain": [
       "<Figure size 432x288 with 1 Axes>"
      ]
     },
     "metadata": {
      "needs_background": "light"
     },
     "output_type": "display_data"
    }
   ],
   "source": [
    "x=['KNN','SVM','DECISION.T','LOGISTIC.R','RANDOM.F']\n",
    "y=[kf,sf,df,lf,RF]\n",
    "plt.bar(x,y,width=0.9,color='YELLOW')\n",
    "plt.xlabel(\"ML Model\")\n",
    "plt.ylabel(\"f1_score of test\")"
   ]
  },
  {
   "cell_type": "markdown",
   "id": "83959400",
   "metadata": {},
   "source": [
    "###### f1_score of train"
   ]
  },
  {
   "cell_type": "code",
   "execution_count": 65,
   "id": "796901b3",
   "metadata": {},
   "outputs": [
    {
     "data": {
      "text/plain": [
       "Text(0, 0.5, 'f1_score of train')"
      ]
     },
     "execution_count": 65,
     "metadata": {},
     "output_type": "execute_result"
    },
    {
     "data": {
      "image/png": "[encoded data removed]",
      "text/plain": [
       "<Figure size 432x288 with 1 Axes>"
      ]
     },
     "metadata": {
      "needs_background": "light"
     },
     "output_type": "display_data"
    }
   ],
   "source": [
    "x=['KNN','SVM','DECISION.T','LOGISTIC.R','RANDOM.F']\n",
    "y=[kf_t,sf_t,df_t,lf_t,RF_t]\n",
    "plt.bar(x,y,width=0.9,color='YELLOW')\n",
    "plt.xlabel(\"ML Model\")\n",
    "plt.ylabel(\"f1_score of train\")"
   ]
  },
  {
   "cell_type": "markdown",
   "id": "99717b4d",
   "metadata": {},
   "source": [
    "### CONCLUSION:\n"
   ]
  },
  {
   "cell_type": "markdown",
   "id": "8b611f9e",
   "metadata": {},
   "source": [
    "1. Accuracy for test is high in:  Random Forest > Decision Tree > K-NN > Logistic regression > SVM<br>\n",
    "2. Precision score for test is high in: Random Forest > K-NN > Decision tree > SVM > Logistic regression<br>\n",
    "3. Re-call score for test is high in : Decision tree > Random Forest > K-NN > SVM > Logistic regression<br>\n",
    "4. f1_score for test is high in :  Random Forest > Decision tree > K-NN > Logistic regression > SVM"
   ]
  },
  {
   "cell_type": "code",
   "execution_count": null,
   "id": "14bdebb1",
   "metadata": {},
   "outputs": [],
   "source": []
  }
 ],
 "metadata": {
  "kernelspec": {
   "display_name": "Python 3 (ipykernel)",
   "language": "python",
   "name": "python3"
  },
  "language_info": {
   "codemirror_mode": {
    "name": "ipython",
    "version": 3
   },
   "file_extension": ".py",
   "mimetype": "text/x-python",
   "name": "python",
   "nbconvert_exporter": "python",
   "pygments_lexer": "ipython3",
   "version": "3.9.12"
  }
 },
 "nbformat": 4,
 "nbformat_minor": 5
}
